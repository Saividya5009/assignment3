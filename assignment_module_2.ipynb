{
  "nbformat": 4,
  "nbformat_minor": 0,
  "metadata": {
    "colab": {
      "name": "assignment module 2.ipynb",
      "provenance": [],
      "authorship_tag": "ABX9TyO+t8qVvjHcmBEr5TsZ+PPn",
      "include_colab_link": true
    },
    "kernelspec": {
      "name": "python3",
      "display_name": "Python 3"
    }
  },
  "cells": [
    {
      "cell_type": "markdown",
      "metadata": {
        "id": "view-in-github",
        "colab_type": "text"
      },
      "source": [
        "<a href=\"https://colab.research.google.com/github/Saividya5009/assignment3/blob/master/assignment_module_2.ipynb\" target=\"_parent\"><img src=\"https://colab.research.google.com/assets/colab-badge.svg\" alt=\"Open In Colab\"/></a>"
      ]
    },
    {
      "cell_type": "code",
      "metadata": {
        "id": "LO6Sno2BEwHd",
        "colab_type": "code",
        "colab": {}
      },
      "source": [
        ""
      ],
      "execution_count": null,
      "outputs": []
    },
    {
      "cell_type": "markdown",
      "metadata": {
        "id": "wmWftdu9FIDy",
        "colab_type": "text"
      },
      "source": [
        "1.generate first n number of fibbonacci numbers."
      ]
    },
    {
      "cell_type": "code",
      "metadata": {
        "id": "4dEFNgv4GjXS",
        "colab_type": "code",
        "colab": {
          "base_uri": "https://localhost:8080/",
          "height": 187
        },
        "outputId": "2ba527c1-810c-433b-b5ca-8b6e1e1f4dfc"
      },
      "source": [
        "nterms = int(input(\"How many terms\"))\n",
        "n1, n2 = 0, 1\n",
        "count = 0\n",
        "if nterms <= 0:\n",
        "   print(\"enter a positive integer\")\n",
        "elif nterms == 1:\n",
        "   print(\"Fibonacci sequence upto\",nterms,\":\")\n",
        "   print(n1)\n",
        "else:\n",
        "   print(\"Fibonacci sequence:\")\n",
        "   while count < nterms:\n",
        "       print(n1)\n",
        "       nth = n1 + n2\n",
        "       n1 = n2\n",
        "       n2 = nth\n",
        "       count=count+1"
      ],
      "execution_count": null,
      "outputs": [
        {
          "output_type": "stream",
          "text": [
            "How many terms8\n",
            "Fibonacci sequence:\n",
            "0\n",
            "1\n",
            "1\n",
            "2\n",
            "3\n",
            "5\n",
            "8\n",
            "13\n"
          ],
          "name": "stdout"
        }
      ]
    },
    {
      "cell_type": "markdown",
      "metadata": {
        "id": "T0Sz7wBeH4Xh",
        "colab_type": "text"
      },
      "source": [
        "2.multiplication table of k"
      ]
    },
    {
      "cell_type": "code",
      "metadata": {
        "id": "uCximLv5IUYu",
        "colab_type": "code",
        "colab": {
          "base_uri": "https://localhost:8080/",
          "height": 204
        },
        "outputId": "8aac7a62-fd2d-4fa3-8a2c-0722bec78a42"
      },
      "source": [
        "k=int(input(\"enter the value of k\"))\n",
        "for i in range(1,11):\n",
        "  print(k,'x',i,'=',k*i)"
      ],
      "execution_count": null,
      "outputs": [
        {
          "output_type": "stream",
          "text": [
            "enter the value of k9\n",
            "9 x 1 = 9\n",
            "9 x 2 = 18\n",
            "9 x 3 = 27\n",
            "9 x 4 = 36\n",
            "9 x 5 = 45\n",
            "9 x 6 = 54\n",
            "9 x 7 = 63\n",
            "9 x 8 = 72\n",
            "9 x 9 = 81\n",
            "9 x 10 = 90\n"
          ],
          "name": "stdout"
        }
      ]
    },
    {
      "cell_type": "markdown",
      "metadata": {
        "id": "50RaGoLjJtN_",
        "colab_type": "text"
      },
      "source": [
        "3.write a program to find gcd and hcf."
      ]
    },
    {
      "cell_type": "code",
      "metadata": {
        "id": "SlkSPwE3KAc9",
        "colab_type": "code",
        "colab": {
          "base_uri": "https://localhost:8080/",
          "height": 68
        },
        "outputId": "b03474a6-0dba-4547-dd9a-b3eef3fc94af"
      },
      "source": [
        "num1 = int(input(\"Enter 1st number\"))\n",
        "num2 = int(input(\"Enter 2nd number\"))\n",
        "i = 1\n",
        "while(i <= num1 and i <= num2):\n",
        "  if(num1 % i == 0 and num2 % i == 0):\n",
        "    gcd = i\n",
        "  i = i + 1\n",
        "print(\"GCD is\", gcd)"
      ],
      "execution_count": null,
      "outputs": [
        {
          "output_type": "stream",
          "text": [
            "Enter 1st number5\n",
            "Enter 2nd number10\n",
            "GCD is 5\n"
          ],
          "name": "stdout"
        }
      ]
    },
    {
      "cell_type": "code",
      "metadata": {
        "id": "vLUCkK7OL_Ga",
        "colab_type": "code",
        "colab": {
          "base_uri": "https://localhost:8080/",
          "height": 34
        },
        "outputId": "d95453fd-c7f9-4944-b09a-52d79d5bb58d"
      },
      "source": [
        "def hcf(x,y):\n",
        "  if(x>y):\n",
        "    small=x\n",
        "  else:\n",
        "    small=y\n",
        "    for i in range(1,small+1):\n",
        "      if((x%i==0)and (y%i==0)):\n",
        "        hcf=i\n",
        "    return hcf\n",
        "print(\"the hcf of x,y=\",hcf(3,6))"
      ],
      "execution_count": null,
      "outputs": [
        {
          "output_type": "stream",
          "text": [
            "the hcf of x,y= 3\n"
          ],
          "name": "stdout"
        }
      ]
    },
    {
      "cell_type": "markdown",
      "metadata": {
        "id": "YSM11hZZONZi",
        "colab_type": "text"
      },
      "source": [
        "4.take word from user and reverse it."
      ]
    },
    {
      "cell_type": "code",
      "metadata": {
        "id": "XajLEF-0OWOy",
        "colab_type": "code",
        "colab": {
          "base_uri": "https://localhost:8080/",
          "height": 51
        },
        "outputId": "58dbb063-7755-4fac-ff6e-0fd85eaa9ce6"
      },
      "source": [
        "s=str(input(\"enter a word\"))\n",
        "print(\"the reverse word=\",s[::-1])"
      ],
      "execution_count": null,
      "outputs": [
        {
          "output_type": "stream",
          "text": [
            "enter a wordvidya\n",
            "the reverse word= aydiv\n"
          ],
          "name": "stdout"
        }
      ]
    },
    {
      "cell_type": "markdown",
      "metadata": {
        "id": "EQBLthE9OtqZ",
        "colab_type": "text"
      },
      "source": [
        "5.print all numbers from 0 to 6 except 3 and 6"
      ]
    },
    {
      "cell_type": "code",
      "metadata": {
        "id": "tdxzCrLaO8Gy",
        "colab_type": "code",
        "colab": {
          "base_uri": "https://localhost:8080/",
          "height": 34
        },
        "outputId": "f97afd01-3377-4bcc-fba8-7d51def73100"
      },
      "source": [
        "for i in range(6):\n",
        "  if(i==3 or i==6):\n",
        "    continue\n",
        "  print(i,end=' ')\n",
        "\n",
        "\n",
        "  "
      ],
      "execution_count": null,
      "outputs": [
        {
          "output_type": "stream",
          "text": [
            "0 1 2 4 5 "
          ],
          "name": "stdout"
        }
      ]
    },
    {
      "cell_type": "markdown",
      "metadata": {
        "id": "Cy24hVo4Rd_N",
        "colab_type": "text"
      },
      "source": [
        "6.convert binary to decimal."
      ]
    },
    {
      "cell_type": "code",
      "metadata": {
        "id": "EmtnZ5RwRhxl",
        "colab_type": "code",
        "colab": {
          "base_uri": "https://localhost:8080/",
          "height": 34
        },
        "outputId": "acd1791e-4c56-4abc-b088-09e7247c4bd5"
      },
      "source": [
        "def binaryToDecimal(n): \n",
        "    num = n\n",
        "    decvalue=0\n",
        "    base = 1 \n",
        "      \n",
        "    temp = num \n",
        "    while(temp): \n",
        "        lastdigit = temp % 10 \n",
        "        temp = int(temp / 10) \n",
        "          \n",
        "        decvalue += lastdigit * base \n",
        "        base = base * 2\n",
        "    return decvalue\n",
        "print(binaryToDecimal(1000))\n"
      ],
      "execution_count": 5,
      "outputs": [
        {
          "output_type": "stream",
          "text": [
            "8\n"
          ],
          "name": "stdout"
        }
      ]
    },
    {
      "cell_type": "markdown",
      "metadata": {
        "id": "ozEAG41wSBf2",
        "colab_type": "text"
      },
      "source": [
        "7.count even and odd numbers in series."
      ]
    },
    {
      "cell_type": "code",
      "metadata": {
        "id": "Js9LYQGaSJ-k",
        "colab_type": "code",
        "colab": {
          "base_uri": "https://localhost:8080/",
          "height": 51
        },
        "outputId": "24ac911f-c54a-4e2b-f643-20b21e3757ea"
      },
      "source": [
        "evencount,oddcount=0,0\n",
        "for i in range10):\n",
        "  if(i%2==0):\n",
        "    evencount=evencount+1\n",
        "  else:\n",
        "    oddcount=oddcount+1\n",
        "print(\"the count of even number\",evencount)\n",
        "print(\"the count of odd number\",oddcount)"
      ],
      "execution_count": null,
      "outputs": [
        {
          "output_type": "stream",
          "text": [
            "the count of even number 10\n",
            "the count of odd number 10\n"
          ],
          "name": "stdout"
        }
      ]
    },
    {
      "cell_type": "markdown",
      "metadata": {
        "id": "nYdHL643hr3a",
        "colab_type": "text"
      },
      "source": [
        "8.Take 10 integers from keyboard using loop and print their average value on the screen Print the   following patterns using loop : \n",
        "     * \n",
        "     ** \n",
        "     *** \n",
        "     **** \n"
      ]
    },
    {
      "cell_type": "code",
      "metadata": {
        "id": "R22DniXSaTuZ",
        "colab_type": "code",
        "colab": {
          "base_uri": "https://localhost:8080/",
          "height": 221
        },
        "outputId": "1c0c7472-11d9-4f77-cadc-b213909258c0"
      },
      "source": [
        "N=int(input(\"how many terms\"))\n",
        "sum=0\n",
        "for i in range(N):\n",
        "  numbers=float(input(\"enter the value of number\"))\n",
        "  sum+=numbers\n",
        "average=sum/N\n",
        "print(\"the average of values are\",average)"
      ],
      "execution_count": 8,
      "outputs": [
        {
          "output_type": "stream",
          "text": [
            "how many terms10\n",
            "enter the value of number2\n",
            "enter the value of number3\n",
            "enter the value of number6\n",
            "enter the value of number8\n",
            "enter the value of number9\n",
            "enter the value of number10\n",
            "enter the value of number4\n",
            "enter the value of number5\n",
            "enter the value of number7\n",
            "enter the value of number9\n",
            "the average of values are 6.3\n"
          ],
          "name": "stdout"
        }
      ]
    },
    {
      "cell_type": "code",
      "metadata": {
        "id": "ogq9AWbFe6Mw",
        "colab_type": "code",
        "colab": {
          "base_uri": "https://localhost:8080/",
          "height": 102
        },
        "outputId": "ed45ef51-c18c-46c7-cef7-e332a724e823"
      },
      "source": [
        "num=int(input(\"enter the no of rows\"))\n",
        "for i in range(1,num+1):\n",
        "  for j in range(1,i+1):\n",
        "    print('*',end='')\n",
        "  print()\n"
      ],
      "execution_count": 19,
      "outputs": [
        {
          "output_type": "stream",
          "text": [
            "enter the no of rows4\n",
            "*\n",
            "**\n",
            "***\n",
            "****\n"
          ],
          "name": "stdout"
        }
      ]
    }
  ]
}